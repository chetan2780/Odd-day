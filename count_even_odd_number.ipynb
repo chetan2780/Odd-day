{
 "cells": [
  {
   "cell_type": "code",
   "execution_count": 2,
   "id": "8bd25e54",
   "metadata": {},
   "outputs": [
    {
     "name": "stdout",
     "output_type": "stream",
     "text": [
      "Number of even numbers : 4\n",
      "Number of odd numbers : 5\n"
     ]
    }
   ],
   "source": [
    "numbers = (1, 2, 3, 4, 5, 6, 7, 8, 9)\n",
    "count_odd_number = 0\n",
    "count_even_number = 0\n",
    "for x in numbers:\n",
    "        if not x % 2:\n",
    "            count_even_number+=1\n",
    "        else:\n",
    "            count_odd_number+=1\n",
    "print(\"Number of even numbers :\",count_even_number)\n",
    "print(\"Number of odd numbers :\",count_odd_number)"
   ]
  },
  {
   "cell_type": "code",
   "execution_count": 3,
   "id": "1a871b53",
   "metadata": {},
   "outputs": [
    {
     "name": "stdout",
     "output_type": "stream",
     "text": [
      "Number of even numbers : 4\n",
      "Number of odd numbers : 5\n"
     ]
    }
   ],
   "source": [
    "numbers = (1, 2, 3, 4, 5, 6, 7, 8, 9)\n",
    "count_odd_number = 0\n",
    "count_even_number = 0\n",
    "for x in numbers:\n",
    "        if not x % 2:\n",
    "            count_even_number+=1\n",
    "        else:\n",
    "            count_odd_number+=1\n",
    "print(\"Number of even numbers :\",count_even_number)\n",
    "print(\"Number of odd numbers :\",count_odd_number)"
   ]
  },
  {
   "cell_type": "code",
   "execution_count": null,
   "id": "85d032a2",
   "metadata": {},
   "outputs": [],
   "source": []
  }
 ],
 "metadata": {
  "kernelspec": {
   "display_name": "Python 3",
   "language": "python",
   "name": "python3"
  },
  "language_info": {
   "codemirror_mode": {
    "name": "ipython",
    "version": 3
   },
   "file_extension": ".py",
   "mimetype": "text/x-python",
   "name": "python",
   "nbconvert_exporter": "python",
   "pygments_lexer": "ipython3",
   "version": "3.8.8"
  }
 },
 "nbformat": 4,
 "nbformat_minor": 5
}
